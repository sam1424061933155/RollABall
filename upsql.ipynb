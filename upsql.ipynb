{
 "cells": [
  {
   "cell_type": "code",
   "execution_count": 35,
   "metadata": {
    "collapsed": false
   },
   "outputs": [
    {
     "name": "stdout",
     "output_type": "stream",
     "text": [
      "{'s_1': '100', 's_0': '606', 's_3': '0', 's_2': '1', 's_4': '', 's_t0': '30.87', 'gps_lat': '24.113', 'gps_alt': '2', 'app': 'AirBox', 's_d1': '4', 'gps_num': '9', 'device': 'taichung18', 's_d0': '3', 'time': '00:00:26', 'date': '2016-09-18', 's_h0': '81', 'tick': '1474128026', 'gps_lon': '120.622', 'device_id': '74DA3895E070'}\n"
     ]
    }
   ],
   "source": [
    "import mysql.connector\n",
    "cnx = mysql.connector.connect(user='root', database='DM')\n",
    "cursor = cnx.cursor()\n",
    "\n",
    "record={}\n",
    "index=[\"app\",\"device_id\",\"tick\",\"date\",\"time\",\"device\",\"s_0\",\"s_1\",\"s_2\",\"s_3\",\"s_4\",\"s_d0\",\"s_t0\",\"s_h0\",\"s_d1\",\"gps_lat\",\"gps_lon\",\"gps_num\",\"gps_alt\"]\n",
    "SQLCommand = (\"INSERT INTO hw \"                 \n",
    "              \"(app, device_id, tick, date, time, device, s_0, s_1, s_2, s_3, s_4, s_d0, s_t0, s_h0, s_d1, gps_lat, gps_lon, gps_num, gps_alt)\" \n",
    "              \"VALUES (%s,%s,%s,%s,%s,%s,%s,%s,%s,%s,%s,%s,%s,%s,%s,%s,%s,%s,%s)\")\n",
    "\n",
    "f = open('data/data.log-20160918')\n",
    "for line in f:\n",
    "    error=0\n",
    "    for temp in index:\n",
    "        record[temp]=\"\"\n",
    "    line=line.strip('\\n')\n",
    "    temp_line=line.split(\"|\")\n",
    "    for temp in temp_line:\n",
    "            if(temp.split(\"=\")[0] in index):\n",
    "                record[temp.split(\"=\")[0]]=temp.split(\"=\")[1]\n",
    "            if(temp.split(\"=\")[0]=='date' and ( temp.split(\"=\")[1] < \"2016-09-18\" or temp.split(\"=\")[1] > \"2016-09-25\") ):\n",
    "                    error=1\n",
    "\n",
    "    if(record['date']==\"\"):\n",
    "        error=1\n",
    "    Values = [record['app'],record['device_id'],record['tick'],record['date'],record['time'],record['device'],record['s_0'],record['s_1'],record['s_2'],\n",
    "          record['s_3'],record['s_4'],record['s_d0'],record['s_t0'],record['s_h0'],record['s_d1'],record['gps_lat'],record['gps_lon'],record['gps_num'],record['gps_lat']] \n",
    "    \n",
    "    if (error==0):\n",
    "        #print (record)\n",
    "        cursor.execute(SQLCommand,Values) \n",
    "        cnx.commit()\n",
    "    \n",
    "cursor.close()\n",
    "cnx.close()\n",
    "\n",
    "            \n"
   ]
  }
 ],
 "metadata": {
  "anaconda-cloud": {},
  "kernelspec": {
   "display_name": "Python [conda root]",
   "language": "python",
   "name": "conda-root-py"
  },
  "language_info": {
   "codemirror_mode": {
    "name": "ipython",
    "version": 2
   },
   "file_extension": ".py",
   "mimetype": "text/x-python",
   "name": "python",
   "nbconvert_exporter": "python",
   "pygments_lexer": "ipython2",
   "version": "2.7.12"
  }
 },
 "nbformat": 4,
 "nbformat_minor": 1
}
